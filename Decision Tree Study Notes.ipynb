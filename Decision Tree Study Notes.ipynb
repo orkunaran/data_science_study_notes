{
 "cells": [
  {
   "cell_type": "markdown",
   "metadata": {},
   "source": [
    "# Decision Tree Study Notes \n",
    "\n"
   ]
  },
  {
   "cell_type": "markdown",
   "metadata": {},
   "source": [
    "![image](https://miro.medium.com/max/1380/1*eucTQhlYKFSFw1r4iSkS_g.png)\n",
    "\n",
    "[Source : Ekrem Hatipoğlu Medium](https://medium.com/@ekrem.hatipoglu/machine-learning-classification-decision-tree-random-forest-part-12-8c9515d811b9)\n",
    "\n",
    "## Introduction\n",
    "\n",
    "Decision Tree Algorithm (DT) is one of the most common algorithms. Also, DT algorithms stands in the basis of the many strong ensemble models such as Random Forest, AdaBoost, Gradient boost etc.).Therefore, it would be good to learn the intuition behind the DT.\n",
    "   \n",
    "## Decision Tree Basics\n",
    "\n",
    "DT is quite like how we make our decisions. We have 2 option, and choose according to our situation. Let's give an example:\n",
    "\n",
    "    You have your Anatomy exam tomorrow which will be a pain in the ***. However,you learnt that your favorite band Dream Theater will have a concert today in your university campus. You need to decide wheter go or not go to the concert. The two options are crystal clear : \n",
    "    1. Stay and study for your exam\n",
    "    2. No one can finish whole anatomy class in one day; skrew it and go to the concert and get hypnotized with Mr. Pertucci's guitar solos. \n",
    "    \n",
    "    In addition to these 2 options; if you have information you can provide +1 tree to your decision making process. Such as;\n",
    "    1. How many students passed Anatomy by only studying for 1 day\n",
    "    2. How many students failed Anatomy by only studying for 1 day.\n",
    "    \n",
    "    Want to increase??? Nah!!! You get the point.\n",
    "    \n",
    "\n",
    "Back to DT (Decision trees, not Dream Theater). \n",
    "\n",
    "There are 2 types of DT;\n",
    "\n",
    "    1. Decision Tree Classifier: If you want to solve a classification problem\n",
    "    2. Decision Tree Regressor: If you want to solve a numerical problem (prize of house, height of teenagers etc).\n",
    "    \n",
    "### Decision Tree Terminology\n",
    "\n",
    "Root Node: This is the first node that used to start our decision making process. To get a better understanding, see the image above, 'Salary at least >50k' is the root node of that DT. \n",
    "\n",
    "Internal Nodes / Branches: The other nodes that brached out of the Root Node (blue boxes in the image). Important thing is the Internal Nodes always connect to another node. Trees never ends at Internal Nodes.\n",
    "\n",
    "Leaf Nodes / Leaves : The ending nodes of a DT. These are the nodes that a DT ends and we make a decision. \n",
    "\n",
    "\n",
    "    Let's interpret the image above:\n",
    "    \n",
    "    1. Does the job pays more than 50k? If no; decision is NO (leaf node). If yes; go to the branch:\n",
    "    2. Internal Branch 1: Do you need to commute more than 1 hour? If yes; decision is NO (leaf node). If yes, move to the next branch:\n",
    "    3. Internal Branch 2: Does the job offer you free coffee? \n",
    "    3a. Leaf Nodes (Leaves): If no: decision is NO. If Yes; Decision is YES.\n",
    "    \n"
   ]
  },
  {
   "cell_type": "markdown",
   "metadata": {},
   "source": [
    "## Attribute Selection Methods\n",
    "In someplace on the internet while I was reading about DT, I saw an example 'Who is it?' game. This is a perfect match for decision trees. What would be your first question if you play this game? Is it a general question or a specific question? \n",
    "    \n",
    "Would you ask; - Is it John Doe? or - Is it a male? \n",
    "\n",
    "I would go for first one, and I think you too. As you gain information about the person, you narrow your questions such as 'Is she blonde?' ' Is she an actor?'.\n",
    "\n",
    "If you want to do this decision making (narrowing down options) in DT, you have several options:\n",
    "\n",
    "    * Entropy,\n",
    "    * Information gain,\n",
    "    * Gini index,\n",
    "    Gain Ratio,\n",
    "    * Reduction in Variance\n",
    "    Chi-Square\n",
    "\n",
    "\n",
    "\n",
    "    1. Gini Index  \n",
    "    \n",
    "$$ Gini = 1 - \\sum_{i=1}^n p_i^2 $$\n",
    "    \n",
    "    2. Shannon's Entropy \n",
    " \n",
    "$$ Shannon's Entropy = - \\sum_{i=1}^n p_i log_2 p_i $$\n",
    "\n",
    "    2a. Entropy After Split\n",
    "\n",
    "$$ E(T,X) = \\sum_c P(c)E(c)  $$\n",
    "    \n",
    "\n",
    "    3. Information Gain : \n",
    "    \n",
    "    Information gain or IG is a statistical property that measures how well a given attribute separates the training examples according to their target classification. Constructing a decision tree is all about finding an attribute that returns the highest information gain and the smallest entropy. Long story short ; decrease in entropy is IG.\n",
    "\n",
    "\n",
    "[source](https://www.kdnuggets.com/2020/01/decision-tree-algorithm-explained.html)\n",
    "    \n",
    "$$  Information Gain = E(before) - Entropy(j,after) $$ \n",
    "\n",
    "\n",
    "    4. Reduction in Variance (for numeric split)\n",
    "    \n",
    "$$ Variance = \\frac{\\sum(X - \\overline X)^2}{n} $$\n",
    "\n",
    "\n",
    "\n",
    "NOTE: According to Hands on Machine Learning with Scikit-Learn, Keras & Tensorflow book; we can choose any of methods above, they tend to give similar results. \n",
    "\n"
   ]
  },
  {
   "cell_type": "code",
   "execution_count": 5,
   "metadata": {},
   "outputs": [],
   "source": [
    "import pandas as pd\n",
    "# Defining a simple dataset\n",
    "stroke ={\n",
    "    'age' : [20, 26, 37, 67, 87, 55, 35, 74, 16, 45, 72, 33, 34, 66 ],\n",
    "    'age_groups' : ['youth', 'youth', 'middle_age', 'elder', 'elder', 'senior','middle_age', 'elder', 'youth', 'senior', 'elder', 'middle_age','middle_age', 'elder'],\n",
    "    'hypertension' : ['no','no','no','no','yes','yes','yes','no','yes','yes','yes','no','yes','no'],\n",
    "    'diabetes' : ['no','no','no','no','yes','yes','yes','no','yes','yes','yes','no','yes','yes'],\n",
    "    'cigarette' : ['yes','yes','no','no','no','yes','yes','no','yes','yes','no','no','yes','no'],\n",
    "    'stroke' : ['no', 'no', 'yes', 'yes', 'yes', 'no', 'yes', 'no', 'yes', 'yes','yes', 'yes', 'yes', 'no']\n",
    "}\n",
    "stroke = pd.DataFrame(stroke)"
   ]
  },
  {
   "cell_type": "code",
   "execution_count": 6,
   "metadata": {},
   "outputs": [
    {
     "data": {
      "text/html": [
       "<div>\n",
       "<style scoped>\n",
       "    .dataframe tbody tr th:only-of-type {\n",
       "        vertical-align: middle;\n",
       "    }\n",
       "\n",
       "    .dataframe tbody tr th {\n",
       "        vertical-align: top;\n",
       "    }\n",
       "\n",
       "    .dataframe thead th {\n",
       "        text-align: right;\n",
       "    }\n",
       "</style>\n",
       "<table border=\"1\" class=\"dataframe\">\n",
       "  <thead>\n",
       "    <tr style=\"text-align: right;\">\n",
       "      <th></th>\n",
       "      <th>age</th>\n",
       "      <th>age_groups</th>\n",
       "      <th>hypertension</th>\n",
       "      <th>diabetes</th>\n",
       "      <th>cigarette</th>\n",
       "      <th>stroke</th>\n",
       "    </tr>\n",
       "  </thead>\n",
       "  <tbody>\n",
       "    <tr>\n",
       "      <th>0</th>\n",
       "      <td>20</td>\n",
       "      <td>youth</td>\n",
       "      <td>no</td>\n",
       "      <td>no</td>\n",
       "      <td>yes</td>\n",
       "      <td>no</td>\n",
       "    </tr>\n",
       "    <tr>\n",
       "      <th>1</th>\n",
       "      <td>26</td>\n",
       "      <td>youth</td>\n",
       "      <td>no</td>\n",
       "      <td>no</td>\n",
       "      <td>yes</td>\n",
       "      <td>no</td>\n",
       "    </tr>\n",
       "    <tr>\n",
       "      <th>2</th>\n",
       "      <td>37</td>\n",
       "      <td>middle_age</td>\n",
       "      <td>no</td>\n",
       "      <td>no</td>\n",
       "      <td>no</td>\n",
       "      <td>yes</td>\n",
       "    </tr>\n",
       "    <tr>\n",
       "      <th>3</th>\n",
       "      <td>67</td>\n",
       "      <td>elder</td>\n",
       "      <td>no</td>\n",
       "      <td>no</td>\n",
       "      <td>no</td>\n",
       "      <td>yes</td>\n",
       "    </tr>\n",
       "    <tr>\n",
       "      <th>4</th>\n",
       "      <td>87</td>\n",
       "      <td>elder</td>\n",
       "      <td>yes</td>\n",
       "      <td>yes</td>\n",
       "      <td>no</td>\n",
       "      <td>yes</td>\n",
       "    </tr>\n",
       "    <tr>\n",
       "      <th>5</th>\n",
       "      <td>55</td>\n",
       "      <td>senior</td>\n",
       "      <td>yes</td>\n",
       "      <td>yes</td>\n",
       "      <td>yes</td>\n",
       "      <td>no</td>\n",
       "    </tr>\n",
       "    <tr>\n",
       "      <th>6</th>\n",
       "      <td>35</td>\n",
       "      <td>middle_age</td>\n",
       "      <td>yes</td>\n",
       "      <td>yes</td>\n",
       "      <td>yes</td>\n",
       "      <td>yes</td>\n",
       "    </tr>\n",
       "    <tr>\n",
       "      <th>7</th>\n",
       "      <td>74</td>\n",
       "      <td>elder</td>\n",
       "      <td>no</td>\n",
       "      <td>no</td>\n",
       "      <td>no</td>\n",
       "      <td>no</td>\n",
       "    </tr>\n",
       "    <tr>\n",
       "      <th>8</th>\n",
       "      <td>16</td>\n",
       "      <td>youth</td>\n",
       "      <td>yes</td>\n",
       "      <td>yes</td>\n",
       "      <td>yes</td>\n",
       "      <td>yes</td>\n",
       "    </tr>\n",
       "    <tr>\n",
       "      <th>9</th>\n",
       "      <td>45</td>\n",
       "      <td>senior</td>\n",
       "      <td>yes</td>\n",
       "      <td>yes</td>\n",
       "      <td>yes</td>\n",
       "      <td>yes</td>\n",
       "    </tr>\n",
       "    <tr>\n",
       "      <th>10</th>\n",
       "      <td>72</td>\n",
       "      <td>elder</td>\n",
       "      <td>yes</td>\n",
       "      <td>yes</td>\n",
       "      <td>no</td>\n",
       "      <td>yes</td>\n",
       "    </tr>\n",
       "    <tr>\n",
       "      <th>11</th>\n",
       "      <td>33</td>\n",
       "      <td>middle_age</td>\n",
       "      <td>no</td>\n",
       "      <td>no</td>\n",
       "      <td>no</td>\n",
       "      <td>yes</td>\n",
       "    </tr>\n",
       "    <tr>\n",
       "      <th>12</th>\n",
       "      <td>34</td>\n",
       "      <td>middle_age</td>\n",
       "      <td>yes</td>\n",
       "      <td>yes</td>\n",
       "      <td>yes</td>\n",
       "      <td>yes</td>\n",
       "    </tr>\n",
       "    <tr>\n",
       "      <th>13</th>\n",
       "      <td>66</td>\n",
       "      <td>elder</td>\n",
       "      <td>no</td>\n",
       "      <td>yes</td>\n",
       "      <td>no</td>\n",
       "      <td>no</td>\n",
       "    </tr>\n",
       "  </tbody>\n",
       "</table>\n",
       "</div>"
      ],
      "text/plain": [
       "    age  age_groups hypertension diabetes cigarette stroke\n",
       "0    20       youth           no       no       yes     no\n",
       "1    26       youth           no       no       yes     no\n",
       "2    37  middle_age           no       no        no    yes\n",
       "3    67       elder           no       no        no    yes\n",
       "4    87       elder          yes      yes        no    yes\n",
       "5    55      senior          yes      yes       yes     no\n",
       "6    35  middle_age          yes      yes       yes    yes\n",
       "7    74       elder           no       no        no     no\n",
       "8    16       youth          yes      yes       yes    yes\n",
       "9    45      senior          yes      yes       yes    yes\n",
       "10   72       elder          yes      yes        no    yes\n",
       "11   33  middle_age           no       no        no    yes\n",
       "12   34  middle_age          yes      yes       yes    yes\n",
       "13   66       elder           no      yes        no     no"
      ]
     },
     "execution_count": 6,
     "metadata": {},
     "output_type": "execute_result"
    }
   ],
   "source": [
    "stroke"
   ]
  },
  {
   "cell_type": "code",
   "execution_count": 7,
   "metadata": {},
   "outputs": [],
   "source": [
    "# Create functions\n",
    "import numpy as np # for algebra\n",
    "\n",
    "#for categorical features \n",
    "def gini(data, column):\n",
    "    \"\"\" This is a function to calculate gini impurity \n",
    "    for categorical features.\n",
    "    \n",
    "    For each category in column, squares of probabilities\n",
    "    summed as probabilities variable. \n",
    "    \n",
    "    To calculate gini index probabilities extracted from 1.\n",
    "    \n",
    "    \"\"\"\n",
    "    gini_index = 0\n",
    "    probabilities = 0\n",
    "    for index, count in enumerate(set(data[column])):\n",
    "        probabilities += (data[column].value_counts()[index] / len(data))**2\n",
    "        gini_index = 1 - probabilities\n",
    "    \n",
    "    return gini_index\n",
    "    \n",
    "        "
   ]
  },
  {
   "cell_type": "code",
   "execution_count": 8,
   "metadata": {},
   "outputs": [
    {
     "data": {
      "text/plain": [
       "0.7244897959183674"
      ]
     },
     "execution_count": 8,
     "metadata": {},
     "output_type": "execute_result"
    }
   ],
   "source": [
    "gini(stroke,'age_groups')"
   ]
  },
  {
   "cell_type": "code",
   "execution_count": 9,
   "metadata": {},
   "outputs": [],
   "source": [
    "#Create Shannon's entropy function \n",
    "def entropy(data, column):\n",
    "    \"\"\" This function calculates Shannon's Entropy.\n",
    "    \"\"\"\n",
    "    shannon = 0\n",
    "    for index, count in enumerate(set(data[column])):\n",
    "        shannon -= ((data[column]).value_counts()[index] / len(data)) * np.log((data[column]).value_counts()[index] / len(data))\n",
    "    return shannon "
   ]
  },
  {
   "cell_type": "code",
   "execution_count": 10,
   "metadata": {},
   "outputs": [
    {
     "data": {
      "text/plain": [
       "0.6931471805599453"
      ]
     },
     "execution_count": 10,
     "metadata": {},
     "output_type": "execute_result"
    }
   ],
   "source": [
    "entropy(stroke,'hypertension')"
   ]
  },
  {
   "cell_type": "code",
   "execution_count": 11,
   "metadata": {},
   "outputs": [
    {
     "data": {
      "text/plain": [
       "0.6931471805599453"
      ]
     },
     "execution_count": 11,
     "metadata": {},
     "output_type": "execute_result"
    }
   ],
   "source": [
    "shannon_hypertension = - ((7/14)*np.log(7/14)) - (7/14)*np.log(7/14)\n",
    "shannon_hypertension"
   ]
  },
  {
   "cell_type": "code",
   "execution_count": 12,
   "metadata": {},
   "outputs": [],
   "source": [
    "# Shannon for Multiple Features\n",
    "def multi_shannon(data,column):\n",
    "    \"\"\"\n",
    "    \"\"\"\n",
    "    multi = 0\n",
    "    for index, count in enumerate(set(data[column])):\n",
    "        multi += ((data[column]).value_counts()[index] / len(data)) * (-((data[column]).value_counts()[index] / len(data)) * np.log((data[column]).value_counts()[index] / len(data)))\n",
    "    return multi"
   ]
  },
  {
   "cell_type": "code",
   "execution_count": 13,
   "metadata": {},
   "outputs": [
    {
     "data": {
      "text/plain": [
       "0.3440425453581655"
      ]
     },
     "execution_count": 13,
     "metadata": {},
     "output_type": "execute_result"
    }
   ],
   "source": [
    "multi_shannon(stroke,'age_groups')"
   ]
  },
  {
   "cell_type": "code",
   "execution_count": 14,
   "metadata": {},
   "outputs": [
    {
     "name": "stdout",
     "output_type": "stream",
     "text": [
      "Entropy for age_groups : 1.3337360272028096\n",
      "Entropy for hypertension : 0.6931471805599453\n",
      "Entropy for diabetes : 0.6829081047004717\n",
      "Entropy for cigarette : 0.6931471805599453\n"
     ]
    }
   ],
   "source": [
    "# let's find the lowest entropy for all columns\n",
    "for col in stroke.drop(['age', 'stroke'],axis=1).columns:\n",
    "    print(f\"Entropy for {col} : {entropy(stroke,str(col))}\")"
   ]
  },
  {
   "cell_type": "markdown",
   "metadata": {},
   "source": [
    "## Decision Trees for Regression\n",
    "\n",
    "DT model also works same for regression problems, but it tries to minimize MSE rather than impurity. So we have a cost function formula here:\n",
    "\n",
    "\n",
    "$$ Cost function J(k, t_k) = \\frac{m_{left}}{m}MSE_{left} + \\frac{m_{right}}{m}MSE_{right} $$\n",
    "\n",
    "\n",
    "where\n",
    "\n",
    "\n",
    "$$ MSE_{node} = \\sum_{i ∈ node} (\\hat{y}_{node} - y^{(i)})^2 $$\n",
    "\n",
    "and \n",
    "\n",
    "$$ \\hat{y} = \\frac{1}{m_{node}} \\sum_{i ∈ node} y^{(i)} $$ "
   ]
  },
  {
   "cell_type": "markdown",
   "metadata": {},
   "source": [
    "# Scikit-Learn Decision Tree\n",
    "\n",
    "So far, I covered fundamentals of DT algorithm such as entropy, gini index, cost function for regression. I coded some of the methods from scratch (entropy and gini index). Now for the practical part, let's move to scikit-learn library. \n",
    "\n",
    "Sklearn DT uses Classification and Regression Tree algorithm to train trees (growing trees). What algorithm does ;\n",
    "\n",
    "    1. Split the data using k feature with a treshhold t (e.g. age < 24)\n",
    "    2. Uses cost function formula to determine which split to use (minimize cost function) (Cost function nearly the same with regression trees - insted of MSE it uses G - imputity).\n",
    "    3. Do the same thing again for the next node, recursively.\n",
    "    4. Stop recursing if reached max_depth parameter (predefined by yourself) or could not decrease impurity\n",
    "\n",
    "\n",
    "## Regularization Parameters \n",
    "\n",
    "If hyperparameters of DT are not set, overfitting is much likely to occur. To prevent overfitting, we need to restrict parameters such tree depth, maximum tree splits, minimum samples in a leaf etc. \n",
    "    \n",
    "    1. max_depth = how far the trees go for dt. ( you can count it starting from root to the last leaf. Default is None \n",
    "    2. min_samples_split = minimum samples required to make a split. This can also limit the tree count\n",
    "    3. min_samples_leaf = minimum samples required in a leaf. So you cannot create one more leaf if you don't have enough samples\n",
    "    4. max_leaf_nodes = maximum number of leaf nodes.\n",
    "\n",
    "Let's visualize the DT for the data I created."
   ]
  },
  {
   "cell_type": "code",
   "execution_count": 22,
   "metadata": {},
   "outputs": [],
   "source": [
    "# first import modules\n",
    "from sklearn.tree import DecisionTreeClassifier, plot_tree\n",
    "import matplotlib.pyplot as plt\n",
    "\n",
    "# we need to preprocess the data\n",
    "from sklearn.preprocessing import LabelEncoder"
   ]
  },
  {
   "cell_type": "code",
   "execution_count": 18,
   "metadata": {},
   "outputs": [],
   "source": [
    "le = LabelEncoder()\n",
    "for col in stroke.select_dtypes(include = 'object'):\n",
    "    stroke[col] = le.fit_transform(stroke[col])\n",
    "    \n",
    "# describe X and y\n",
    "X = stroke.drop('stroke', axis=1)\n",
    "y = stroke['stroke']"
   ]
  },
  {
   "cell_type": "code",
   "execution_count": 20,
   "metadata": {},
   "outputs": [],
   "source": [
    "dt = DecisionTreeClassifier()\n",
    "clf_fit = dt.fit(X,y)"
   ]
  },
  {
   "cell_type": "code",
   "execution_count": 24,
   "metadata": {},
   "outputs": [
    {
     "data": {
      "image/png": "[encoded data removed]",
      "text/plain": [
       "<Figure size 1080x576 with 1 Axes>"
      ]
     },
     "metadata": {
      "needs_background": "light"
     },
     "output_type": "display_data"
    }
   ],
   "source": [
    "plt.figure(figsize=(15,8))\n",
    "_ = plot_tree(clf_fit)"
   ]
  },
  {
   "cell_type": "markdown",
   "metadata": {},
   "source": [
    "References:\n",
    "\n",
    "1. https://towardsdatascience.com/from-a-single-decision-tree-to-a-random-forest-b9523be65147\n",
    "\n",
    "2. https://mlcourse.ai/articles/topic3-dt-knn/\n",
    "\n",
    "3. https://www.kdnuggets.com/2020/01/decision-tree-algorithm-explained.html\n",
    "\n",
    "4. https://towardsdatascience.com/entropy-how-decision-trees-make-decisions-2946b9c18c8"
   ]
  },
  {
   "cell_type": "code",
   "execution_count": null,
   "metadata": {},
   "outputs": [],
   "source": []
  }
 ],
 "metadata": {
  "kernelspec": {
   "display_name": "Python 3",
   "language": "python",
   "name": "python3"
  },
  "language_info": {
   "codemirror_mode": {
    "name": "ipython",
    "version": 3
   },
   "file_extension": ".py",
   "mimetype": "text/x-python",
   "name": "python",
   "nbconvert_exporter": "python",
   "pygments_lexer": "ipython3",
   "version": "3.8.8"
  }
 },
 "nbformat": 4,
 "nbformat_minor": 4
}
